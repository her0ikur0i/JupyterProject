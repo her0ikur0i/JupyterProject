{
 "cells": [
  {
   "cell_type": "code",
   "execution_count": 78,
   "id": "bab0d130-416f-4881-8505-81025db26314",
   "metadata": {},
   "outputs": [],
   "source": [
    "import requests\n",
    "from bs4 import BeautifulSoup\n",
    "import pandas as pd"
   ]
  },
  {
   "cell_type": "code",
   "execution_count": 48,
   "id": "8b5e9203-0a57-49d6-9b87-02af2ba83e5f",
   "metadata": {},
   "outputs": [],
   "source": [
    "def get_nama_praktek(praktek_id):\n",
    "    url          = f'https://{praktek_id}.portal.athenahealth.com/'\n",
    "    test         = requests.get(url)\n",
    "    html         = test.text\n",
    "    soup         = BeautifulSoup(html, 'html.parser')\n",
    "    nama_praktek = soup.findAll('h1')[-1].text.strip()\n",
    "    return nama_praktek"
   ]
  },
  {
   "cell_type": "code",
   "execution_count": 119,
   "id": "b537bcf3-770e-4a26-8e6c-bc7815be0a56",
   "metadata": {},
   "outputs": [],
   "source": [
    "awal = 9100\n",
    "akhir = 9105"
   ]
  },
  {
   "cell_type": "code",
   "execution_count": null,
   "id": "3f0c05a3-c3d5-443d-abb5-5cbdb5987b38",
   "metadata": {},
   "outputs": [],
   "source": [
    "master_list = []\n",
    "\n",
    "for id in range(awal,akhir+1):\n",
    "    kamus ['id'] = id\n",
    "    kamus ['nama_praktek'] = get_nama_praktek(id)\n",
    "    if kamus ['nama_praktek'] != \"Sorry, we can't find that practice. Make sure you typed the right address.\" and kamus ['nama_praktek'] != 'Payment Confirmation':\n",
    "        master_list.append(kamus)\n",
    "    print (id)"
   ]
  },
  {
   "cell_type": "code",
   "execution_count": 121,
   "id": "05b662b2-a123-490b-89ad-d5df8fc75805",
   "metadata": {},
   "outputs": [],
   "source": [
    "df = pd.DataFrame(master_list)"
   ]
  },
  {
   "cell_type": "code",
   "execution_count": 125,
   "id": "f490b76b-1714-48fb-ba49-53a9db422cd6",
   "metadata": {},
   "outputs": [],
   "source": [
    "df.to_csv('data_praktek.csv',index=False)"
   ]
  },
  {
   "cell_type": "code",
   "execution_count": null,
   "id": "861a198d-b448-4ba1-85dd-fdad33d74018",
   "metadata": {},
   "outputs": [],
   "source": []
  },
  {
   "cell_type": "code",
   "execution_count": null,
   "id": "f99be525-0e3d-45c9-8975-9fea7b16b015",
   "metadata": {},
   "outputs": [],
   "source": []
  }
 ],
 "metadata": {
  "kernelspec": {
   "display_name": "Python 3 (ipykernel)",
   "language": "python",
   "name": "python3"
  },
  "language_info": {
   "codemirror_mode": {
    "name": "ipython",
    "version": 3
   },
   "file_extension": ".py",
   "mimetype": "text/x-python",
   "name": "python",
   "nbconvert_exporter": "python",
   "pygments_lexer": "ipython3",
   "version": "3.11.5"
  }
 },
 "nbformat": 4,
 "nbformat_minor": 5
}
